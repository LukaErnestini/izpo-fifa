{
 "cells": [
  {
   "cell_type": "code",
   "execution_count": 315,
   "id": "d240c2bf",
   "metadata": {},
   "outputs": [],
   "source": [
    "from sqlalchemy import create_engine, text\n",
    "from sqlalchemy.orm import sessionmaker\n",
    "from sqlalchemy import MetaData, Table\n",
    "from sqlalchemy import select\n",
    "import pandas as pd\n",
    "import numpy as np\n",
    "import collections\n",
    "\n",
    "\n",
    "DB_USER = 'postgres'\n",
    "DB_PASSWORD = '1234'\n",
    "DB_HOST = 'localhost'\n",
    "DB_PORT = 5432\n",
    "DB_NAME = 'izpo-fifa'\n",
    "\n",
    "DATABASE_URL = f\"postgresql://{DB_USER}:{DB_PASSWORD}@{DB_HOST}:{DB_PORT}/{DB_NAME}\"\n",
    "        \n",
    "# https://docs.sqlalchemy.org/en/20/core/reflection.html\n",
    "engine = create_engine(DATABASE_URL)\n",
    "metadata_obj = MetaData()\n",
    "metadata_obj.reflect(bind=engine)"
   ]
  },
  {
   "cell_type": "code",
   "execution_count": 316,
   "id": "9110cba7",
   "metadata": {},
   "outputs": [],
   "source": [
    "# Load the tables\n",
    "Player = Table(\"Player\", metadata_obj, autoload_with=engine)\n",
    "Attempt = Table(\"Attempt\", metadata_obj, autoload_with=engine)\n",
    "Foul = Table(\"Foul\", metadata_obj, autoload_with=engine)\n",
    "Game = Table(\"Game\", metadata_obj, autoload_with=engine)\n",
    "Gameday = Table(\"Gameday\", metadata_obj, autoload_with=engine)\n",
    "Player = Table(\"Player\", metadata_obj, autoload_with=engine)\n",
    "Team = Table(\"Team\", metadata_obj, autoload_with=engine)\n",
    "TeamsInGame = Table(\"_teamsInGame\", metadata_obj, autoload_with=engine)\n",
    "GamedayToPlayer = Table(\"_GamedayToPlayer\", metadata_obj, autoload_with=engine)\n",
    "PlayerToTeam = Table(\"_PlayerToTeam\", metadata_obj, autoload_with=engine)\n"
   ]
  },
  {
   "cell_type": "code",
   "execution_count": 317,
   "id": "b24934ec",
   "metadata": {},
   "outputs": [],
   "source": [
    "# Functions for fetching from database\n",
    "def get_players_in_team_df():\n",
    "    stmt = select(PlayerToTeam)\n",
    "    with engine.connect() as conn:\n",
    "        result = conn.execute(stmt)\n",
    "        df = pd.DataFrame(result.fetchall(), columns=result.keys())\n",
    "        return df.rename(columns={'A':'playerId','B':'teamId'})\n",
    "def get_teams_in_game_df():\n",
    "    stmt = select(TeamsInGame)\n",
    "    with engine.connect() as conn:\n",
    "        result = conn.execute(stmt)\n",
    "        df = pd.DataFrame(result.fetchall(), columns=result.keys())\n",
    "        return df.rename(columns={'A':'gameId','B':'teamId'})\n",
    "def get_players_df():\n",
    "    stmt = select(Player)\n",
    "    with engine.connect() as conn:\n",
    "        result = conn.execute(stmt)\n",
    "        return pd.DataFrame(result.fetchall(), columns=result.keys())\n",
    "\n"
   ]
  },
  {
   "cell_type": "code",
   "execution_count": 318,
   "id": "09004b5c",
   "metadata": {},
   "outputs": [
    {
     "name": "stdout",
     "output_type": "stream",
     "text": [
      "SELECT \"Player\".id, \"Player\".name, \"Player\".\"imageUri\" \n",
      "FROM \"Player\" \n",
      "WHERE \"Player\".name = :name_1\n"
     ]
    }
   ],
   "source": [
    "# Build up a statement\n",
    "stmt = select(Player).where(Player.c.name == \"Luka\")\n",
    "print(stmt)"
   ]
  },
  {
   "cell_type": "code",
   "execution_count": 319,
   "id": "263adeb0",
   "metadata": {},
   "outputs": [
    {
     "name": "stdout",
     "output_type": "stream",
     "text": [
      "(11, 'Luka', 'https://izpo-fifa.s3.eu-central-1.amazonaws.com/kKPMLEqXp0FRxv2oIIo72.png')\n"
     ]
    }
   ],
   "source": [
    "# We use the following snippet to run the statements\n",
    "with engine.connect() as conn:\n",
    "    for row in conn.execute(stmt):\n",
    "        print(row)"
   ]
  },
  {
   "cell_type": "code",
   "execution_count": 320,
   "id": "618f1c59",
   "metadata": {},
   "outputs": [
    {
     "name": "stdout",
     "output_type": "stream",
     "text": [
      "('Gregor', 12)\n",
      "('Miha', 14)\n",
      "('Jan', 15)\n",
      "('Domen', 13)\n",
      "('Kevin', 16)\n",
      "('Luka', 11)\n"
     ]
    }
   ],
   "source": [
    "# Get all the players\n",
    "stmt = select(Player.c.name, Player.c.id)\n",
    "with engine.connect() as conn:\n",
    "    for row in conn.execute(stmt):\n",
    "        print(row)"
   ]
  },
  {
   "cell_type": "code",
   "execution_count": 321,
   "id": "8980d228",
   "metadata": {},
   "outputs": [
    {
     "name": "stdout",
     "output_type": "stream",
     "text": [
      "(1, 3, None, True, False, False, 11, 1, None, None, None, None, False)\n",
      "(2, 6, None, False, False, True, 11, 1, None, None, None, None, False)\n",
      "(3, 8, 6.0, False, False, False, 11, 1, None, None, None, None, False)\n",
      "(6, 11, 11.0, True, True, True, 11, 1, None, None, None, None, False)\n",
      "(7, 11, -4.0, False, False, False, 11, 1, None, None, None, None, False)\n"
     ]
    }
   ],
   "source": [
    "# Get all attempts by user with id=11\n",
    "stmt = select(Attempt).where(Attempt.c.shooterId == 11).limit(5)\n",
    "with engine.connect() as conn:\n",
    "    for row in conn.execute(stmt):\n",
    "        print(row)\n"
   ]
  },
  {
   "attachments": {},
   "cell_type": "markdown",
   "id": "b0ff4db0",
   "metadata": {},
   "source": [
    "# Using Pandas"
   ]
  },
  {
   "cell_type": "code",
   "execution_count": 322,
   "id": "64b70985",
   "metadata": {},
   "outputs": [
    {
     "name": "stdout",
     "output_type": "stream",
     "text": [
      "   id  time  distance   goal  penalty  onTarget  shooterId  gameId goalieId  \\\n",
      "0   1     3       NaN   True    False     False         11       1     None   \n",
      "1   2     6       NaN  False    False      True         11       1     None   \n",
      "2   3     8       6.0  False    False     False         11       1     None   \n",
      "3   6    11      11.0   True     True      True         11       1     None   \n",
      "4   7    11      -4.0  False    False     False         11       1     None   \n",
      "\n",
      "   assistedId   x   y  autogoal  \n",
      "0         NaN NaN NaN     False  \n",
      "1         NaN NaN NaN     False  \n",
      "2         NaN NaN NaN     False  \n",
      "3         NaN NaN NaN     False  \n",
      "4         NaN NaN NaN     False  \n"
     ]
    }
   ],
   "source": [
    "stmt = select(Attempt).where(Attempt.c.shooterId == 11)\n",
    "with engine.connect() as conn:\n",
    "    result = conn.execute(stmt)\n",
    "    df = pd.DataFrame(result.fetchall(), columns=result.keys())\n",
    "\n",
    "print(df.head())"
   ]
  },
  {
   "cell_type": "code",
   "execution_count": 323,
   "id": "0001ad63",
   "metadata": {},
   "outputs": [
    {
     "name": "stdout",
     "output_type": "stream",
     "text": [
      "   id    name  goals\n",
      "0  11    Luka     10\n",
      "1  12  Gregor     27\n",
      "2  13   Domen     31\n",
      "3  14    Miha     10\n",
      "4  16   Kevin      1\n"
     ]
    }
   ],
   "source": [
    "# Create a select statement to get the number of goals scored by each player\n",
    "# This select returns all the attempts that resulted in a goal\n",
    "stmt = (\n",
    "    select(Player.c.id, Player.c.name, Attempt.c.shooterId, Attempt.c.goal)\n",
    "    .select_from(Player.join(Attempt, Player.c.id == Attempt.c.shooterId))\n",
    "    .where(Attempt.c.goal == True)\n",
    ")\n",
    "\n",
    "# Execute the statement and fetch the rows into a pandas DataFrame\n",
    "with engine.connect() as conn:\n",
    "    result = conn.execute(stmt)\n",
    "    df = pd.DataFrame(result.fetchall(), columns=result.keys())\n",
    "\n",
    "# Group the data by player and count the number of goals\n",
    "goals_by_player = df.groupby([\"id\", \"name\"]).size().reset_index(name=\"goals\")\n",
    "print(goals_by_player)"
   ]
  },
  {
   "cell_type": "code",
   "execution_count": 324,
   "id": "dd797c0b",
   "metadata": {},
   "outputs": [],
   "source": [
    "# OVERALL team table which shows position by points, name, matches, points, points per game, goals for, goals against \n",
    "# Statement to connect\n",
    "\n",
    "stmt = (\n",
    "    select(Game.c.id, Game.c.scoreTeamA, Game.c.scoreTeamB, TeamsInGame.c.B)\n",
    "    .select_from(Game.join(TeamsInGame, Game.c.id == TeamsInGame.c.A))\n",
    "    # .where(Attempt.c.goal == True)\n",
    ")\n",
    "\n",
    "# Execute the statement and fetch the rows into a pandas DataFrame\n",
    "with engine.connect() as conn:\n",
    "    result = conn.execute(stmt)\n",
    "    df = pd.DataFrame(result.fetchall(), columns=result.keys())\n",
    "    df = df.rename(columns={'id':'gameId','B':'teamId'})\n",
    "    # print(df)\n",
    "\n",
    "homeTeamId = []\n",
    "awayTeamId = []\n",
    "for i, val in enumerate(df[\"teamId\"]):\n",
    "    if i%2 == 0 :\n",
    "        homeTeamId.append(val)\n",
    "    else:\n",
    "        awayTeamId.append(val)\n",
    "\n",
    "# print(homeTeamId)\n",
    "# print()\n",
    "# print(awayTeamId)\n",
    "\n",
    "\n",
    "\n",
    "dfGame = df.iloc[::2].copy()\n",
    "\n",
    "# dfGame.index = np.linspace(0,len(dfGame.index))\n",
    "dfGame[\"homeTeamId\"] = homeTeamId\n",
    "dfGame[\"awayTeamId\"] = awayTeamId\n",
    "dfGame = dfGame.drop(columns=[\"teamId\"])\n",
    "dfGame.index = np.arange(len(dfGame.index))\n",
    "\n",
    "hPoints = []\n",
    "aPoints = []\n",
    "for row in dfGame.index:\n",
    "    if (dfGame.loc[row, \"scoreTeamA\"] > dfGame.loc[row, \"scoreTeamB\"]):\n",
    "        hPoints.append(3)\n",
    "        aPoints.append(0)\n",
    "\n",
    "    elif (dfGame.loc[row, \"scoreTeamB\"] > dfGame.loc[row, \"scoreTeamA\"]):\n",
    "        hPoints.append(0)\n",
    "        aPoints.append(3)\n",
    "\n",
    "    else:\n",
    "        hPoints.append(1)\n",
    "        aPoints.append(1)\n",
    "\n",
    "dfGame[\"hPoints\"] = hPoints\n",
    "dfGame[\"aPoints\"] = aPoints\n",
    "\n",
    "\n",
    "# print(dfGame)\n"
   ]
  },
  {
   "cell_type": "code",
   "execution_count": 325,
   "id": "96477f61",
   "metadata": {},
   "outputs": [
    {
     "name": "stdout",
     "output_type": "stream",
     "text": [
      "    Rank  TeamID    Team  MP  W  D  L  Pts  Pts/MP  GF  GA  GF/MP  GA/MP\n",
      "0      1      17  LukGre   8  1  6  1    9    1.12  32  37   4.00   4.62\n",
      "1      2      16  Gregor   7  0  7  0    7    1.00   1   1   0.14   0.14\n",
      "2      3      24  DomMih   4  1  3  0    6    1.50  33  26   8.25   6.50\n",
      "3      4      21    Miha   3  1  2  0    5    1.67   1   0   0.33   0.00\n",
      "4      5      15    Luka   4  0  4  0    4    1.00   1   1   0.25   0.25\n",
      "5      6      20  GreDom   2  1  1  0    4    2.00   1   0   0.50   0.00\n",
      "6      7      18  LukDom   1  1  0  0    3    3.00   5   0   5.00   0.00\n",
      "7      8      19   Domen   4  0  3  1    3    0.75   0   1   0.00   0.25\n",
      "8      9      35  DomKev   2  0  2  0    2    1.00   3   3   1.50   1.50\n",
      "9     10      23  GreMih   1  0  1  0    1    1.00   0   0   0.00   0.00\n",
      "10    11      28  MihJan   3  0  1  2    1    0.33   1   8   0.33   2.67\n",
      "11    12      31  LukKev   1  0  1  0    1    1.00   0   0   0.00   0.00\n",
      "12    13      33  JanKev   1  0  1  0    1    1.00   0   0   0.00   0.00\n",
      "13    14      22  LukMih   1  0  0  1    0    0.00   0   1   0.00   1.00\n"
     ]
    }
   ],
   "source": [
    "# Creating team leaderboard\n",
    "###########################\n",
    "\n",
    "allTeamIds = np.concatenate((dfGame[\"awayTeamId\"], dfGame[\"homeTeamId\"]))\n",
    "allTeamIdsUniq = np.unique(allTeamIds)\n",
    "\n",
    "MPcounter = collections.Counter(allTeamIds)\n",
    "\n",
    "\n",
    "MPs = []\n",
    "for tId in allTeamIdsUniq:\n",
    "    MPs.append(MPcounter.get(tId)) \n",
    "\n",
    "winners = []\n",
    "losers = []\n",
    "draws = []   \n",
    "for row in dfGame.index:\n",
    "    if dfGame.loc[row, \"scoreTeamA\"] > dfGame.loc[row, \"scoreTeamB\"]:\n",
    "        winners.append(dfGame.loc[row, \"homeTeamId\"])\n",
    "        losers.append(dfGame.loc[row, \"awayTeamId\"])\n",
    "\n",
    "    elif dfGame.loc[row, \"scoreTeamB\"] > dfGame.loc[row, \"scoreTeamA\"]:\n",
    "        winners.append(dfGame.loc[row, \"awayTeamId\"])\n",
    "        losers.append(dfGame.loc[row, \"homeTeamId\"])\n",
    "\n",
    "    if dfGame.loc[row, \"scoreTeamA\"] == dfGame.loc[row, \"scoreTeamB\"]:\n",
    "        draws.append(dfGame.loc[row, \"homeTeamId\"])\n",
    "        draws.append(dfGame.loc[row, \"awayTeamId\"])\n",
    "\n",
    "\n",
    "Ws = []\n",
    "for tId in allTeamIdsUniq:\n",
    "    Ws.append(collections.Counter(winners).get(tId))\n",
    "\n",
    "Ls = []\n",
    "for tId in allTeamIdsUniq:  \n",
    "    Ls.append(collections.Counter(losers).get(tId))\n",
    "\n",
    "Ds = []\n",
    "for tId in allTeamIdsUniq:  \n",
    "    Ds.append(collections.Counter(draws).get(tId))\n",
    "\n",
    "\n",
    "dfTeamOverall = pd.DataFrame(columns=[\"Rank\", \"TeamID\", \"Team\", \"MP\", \"W\", \"D\", \"L\", \"Pts\", \"Pts/MP\", \"GF\", \"GA\", \"GF/MP\", \"GA/MP\"])\n",
    "dfTeamOverall[\"TeamID\"] = allTeamIdsUniq\n",
    "dfTeamOverall[\"MP\"] = MPs\n",
    "dfTeamOverall[\"W\"] = Ws\n",
    "dfTeamOverall[\"D\"] = Ds\n",
    "dfTeamOverall[\"L\"] = Ls\n",
    "\n",
    "dfTeamOverall[\"W\"] = dfTeamOverall[\"W\"].fillna(0)\n",
    "dfTeamOverall[\"D\"] = dfTeamOverall[\"D\"].fillna(0)\n",
    "dfTeamOverall[\"L\"] = dfTeamOverall[\"L\"].fillna(0)\n",
    "\n",
    "dfTeamOverall[\"W\"] = dfTeamOverall[\"W\"].astype(int)\n",
    "dfTeamOverall[\"D\"] = dfTeamOverall[\"D\"].astype(int)\n",
    "dfTeamOverall[\"L\"] = dfTeamOverall[\"L\"].astype(int)\n",
    "\n",
    "dfTeamOverall[\"Pts\"] = dfTeamOverall[\"W\"]*3 + dfTeamOverall[\"D\"]\n",
    "dfTeamOverall[\"Pts/MP\"] = (dfTeamOverall[\"Pts\"]/dfTeamOverall[\"MP\"]).astype(float).round(2)\n",
    "\n",
    "GFs = []\n",
    "GAs = []\n",
    "for tId in allTeamIdsUniq:\n",
    "    GFs.append(dfGame.loc[dfGame[\"homeTeamId\"] == tId, \"scoreTeamA\"].sum() + dfGame.loc[dfGame[\"awayTeamId\"] == tId, \"scoreTeamB\"].sum())\n",
    "    GAs.append(dfGame.loc[dfGame[\"homeTeamId\"] == tId, \"scoreTeamB\"].sum() + dfGame.loc[dfGame[\"awayTeamId\"] == tId, \"scoreTeamA\"].sum())\n",
    "\n",
    "\n",
    "dfTeamOverall[\"GF\"] = GFs\n",
    "dfTeamOverall[\"GA\"] = GAs\n",
    "\n",
    "dfTeamOverall[\"GF/MP\"] = (dfTeamOverall[\"GF\"]/dfTeamOverall[\"MP\"]).astype(float).round(2)\n",
    "dfTeamOverall[\"GA/MP\"] = (dfTeamOverall[\"GA\"]/dfTeamOverall[\"MP\"]).astype(float).round(2)\n",
    "\n",
    "names = []\n",
    "player_to_team = get_players_in_team_df()\n",
    "\n",
    "plyrs = get_players_df()\n",
    "\n",
    "# print(player_to_team)\n",
    "# print(plyrs)\n",
    "\n",
    "# print(dfTeamOverall)\n",
    "\n",
    "pIds = []\n",
    "for tId in allTeamIdsUniq:\n",
    "    pIds.append(player_to_team.loc[player_to_team[\"teamId\"] == tId, \"playerId\"].values)\n",
    "\n",
    "# print(pIds) \n",
    "\n",
    "dfNames = pd.DataFrame()\n",
    "dfNames[\"team_ids\"] = allTeamIdsUniq\n",
    "dfNames[\"player_ids\"] = pIds\n",
    "\n",
    "# print(\"plyrs\")\n",
    "# print(plyrs)\n",
    "\n",
    "# print(\"dfNames\")\n",
    "# print(dfNames)\n",
    "\n",
    "playerNames = []\n",
    "for arr in dfNames[\"player_ids\"].values:\n",
    "    # print(\"arr\")\n",
    "    # print(arr)\n",
    "    team_n = []    \n",
    "    for val in arr:\n",
    "        team_n.append(plyrs.loc[plyrs[\"id\"] == val, \"name\"].values[0])\n",
    "\n",
    "    playerNames.append(team_n)\n",
    "\n",
    "# print(playerNames)\n",
    "\n",
    "dfNames[\"team_names\"] = playerNames\n",
    "\n",
    "team_names_final = []\n",
    "for arr in dfNames[\"team_names\"].values:\n",
    "    if len(arr) == 1:\n",
    "        team_names_final.append(arr[0])\n",
    "    else:\n",
    "        team_names_final.append(arr[0][0:3]+arr[1][0:3])\n",
    "\n",
    "dfNames[\"team_names_final\"] = team_names_final\n",
    "\n",
    "# print(dfNames)\n",
    "\n",
    "\n",
    "dfTeamOverall[\"Team\"] = team_names_final\n",
    "dfTeamOverall = dfTeamOverall.sort_values(\"Pts\", ascending=False)\n",
    "dfTeamOverall.index = np.arange(len(dfTeamOverall.index))\n",
    "dfTeamOverall[\"Rank\"] = dfTeamOverall.index + 1\n",
    "# dfTeamOverall = dfTeamOverall.drop(columns=[\"TeamID\"])  # To droppaj ti ker jaz uporabljam v spodnjem odseku\n",
    "\n",
    "print(dfTeamOverall)\n"
   ]
  },
  {
   "cell_type": "code",
   "execution_count": 326,
   "id": "3417abbd",
   "metadata": {},
   "outputs": [
    {
     "name": "stdout",
     "output_type": "stream",
     "text": [
      "   Rank  PlayerID  Player  MP  W   D  L Pts  Pts/MP  GF  GA  GD  GF/MP  GA/MP\n",
      "0     1        12  Gregor  18  2  15  1  21    1.17  34  38  -4   1.89   2.11\n",
      "1     2        13   Domen  13  3   9  1  18    1.38  42  30  12   3.23   2.31\n",
      "2     3        11    Luka  15  2  11  2  17    1.13  38  39  -1   2.53   2.60\n",
      "3     4        14    Miha  12  2   7  3  13    1.08  35  35   0   2.92   2.92\n",
      "4     5        16   Kevin   4  0   4  0   4    1.00   3   3   0   0.75   0.75\n",
      "5     6        15     Jan   4  0   2  2   2    0.50   1   8  -7   0.25   2.00\n"
     ]
    }
   ],
   "source": [
    "# Tabela individualno\n",
    "#####################\n",
    "\n",
    "players = get_players_df()\n",
    "# print(dfNames)\n",
    "# print(player_to_team)\n",
    "\n",
    "\n",
    "dfPlayerOverall = pd.DataFrame(columns=[\"Rank\", \"PlayerID\", \"Player\", \"MP\", \"W\", \"D\", \"L\", \"Pts\", \"Pts/MP\", \"GF\", \"GA\", \"GD\", \"GF/MP\", \"GA/MP\"])\n",
    "pIds = []\n",
    "nms = []\n",
    "for arr in dfNames[\"player_ids\"].values:\n",
    "    for val in arr:\n",
    "        if val not in pIds:\n",
    "            pIds.append(val)\n",
    "            nms.append(players.loc[players[\"id\"] == val, \"name\"].values[0])\n",
    "\n",
    "dfPlayerOverall[\"PlayerID\"] = pIds\n",
    "dfPlayerOverall[\"Player\"] = nms\n",
    "\n",
    "\n",
    "# print(player_to_team.loc[player_to_team[\"playerId\"] == 15, \"teamId\"].values)\n",
    "\n",
    "for pId in dfPlayerOverall[\"PlayerID\"].values:\n",
    "    plMP = 0\n",
    "    plW = 0\n",
    "    plD = 0\n",
    "    plL = 0\n",
    "    plGF = 0\n",
    "    plGA = 0\n",
    "\n",
    "\n",
    "    plTeams = list(player_to_team.loc[player_to_team[\"playerId\"] == pId, \"teamId\"].values)\n",
    "    # print(\"plTeams\")\n",
    "    # print(plTeams)\n",
    "    \n",
    "    for tmId in plTeams:\n",
    "        if(tmId in dfTeamOverall[\"TeamID\"].values):\n",
    "            # print(\"test\")\n",
    "            # print(dfTeamOverall.loc[dfTeamOverall[\"TeamID\"] == tmId, \"MP\"])\n",
    "            plMP = plMP + dfTeamOverall.loc[dfTeamOverall[\"TeamID\"] == tmId, \"MP\"].values[0]\n",
    "            plW = plW + dfTeamOverall.loc[dfTeamOverall[\"TeamID\"] == tmId, \"W\"].values[0]\n",
    "            plD = plD + dfTeamOverall.loc[dfTeamOverall[\"TeamID\"] == tmId, \"D\"].values[0]\n",
    "            plL = plL + dfTeamOverall.loc[dfTeamOverall[\"TeamID\"] == tmId, \"L\"].values[0]\n",
    "            plGF = plGF + dfTeamOverall.loc[dfTeamOverall[\"TeamID\"] == tmId, \"GF\"].values[0]\n",
    "            plGA = plGA + dfTeamOverall.loc[dfTeamOverall[\"TeamID\"] == tmId, \"GA\"].values[0]\n",
    "\n",
    "    \n",
    "    dfPlayerOverall.loc[dfPlayerOverall[\"PlayerID\"] == pId, \"MP\"] = plMP\n",
    "    dfPlayerOverall.loc[dfPlayerOverall[\"PlayerID\"] == pId, \"W\"] = plW\n",
    "    dfPlayerOverall.loc[dfPlayerOverall[\"PlayerID\"] == pId, \"D\"] = plD\n",
    "    dfPlayerOverall.loc[dfPlayerOverall[\"PlayerID\"] == pId, \"L\"] = plL\n",
    "    dfPlayerOverall.loc[dfPlayerOverall[\"PlayerID\"] == pId, \"GF\"] = plGF\n",
    "    dfPlayerOverall.loc[dfPlayerOverall[\"PlayerID\"] == pId, \"GA\"] = plGA\n",
    "\n",
    "\n",
    "dfPlayerOverall[\"Pts\"] = dfPlayerOverall[\"W\"]*3 + dfPlayerOverall[\"D\"]\n",
    "dfPlayerOverall[\"Pts/MP\"] = (dfPlayerOverall[\"Pts\"] / dfPlayerOverall[\"MP\"]).astype(float).round(2)\n",
    "dfPlayerOverall[\"GF/MP\"] = (dfPlayerOverall[\"GF\"] / dfPlayerOverall[\"MP\"]).astype(float).round(2)\n",
    "dfPlayerOverall[\"GA/MP\"] = (dfPlayerOverall[\"GA\"] / dfPlayerOverall[\"MP\"]).astype(float).round(2)\n",
    "\n",
    "dfPlayerOverall[\"GD\"] = dfPlayerOverall[\"GF\"] - dfPlayerOverall[\"GA\"]\n",
    "\n",
    "dfPlayerOverall = dfPlayerOverall.sort_values(\"Pts\", ascending=False)\n",
    "dfPlayerOverall.index = np.arange(len(dfPlayerOverall.index))\n",
    "dfPlayerOverall[\"Rank\"] = dfPlayerOverall.index + 1 \n",
    "\n",
    "dfPlayerOverall.replace(np.inf, 0, inplace=True)\n",
    "\n",
    "\n",
    "# dfPlayerOverall = dfPlayerOverall.drop(columns=[\"PlayerID\"])  # To droppaj ti\n",
    "\n",
    "print(dfPlayerOverall)\n",
    "\n",
    "\n"
   ]
  },
  {
   "cell_type": "code",
   "execution_count": 327,
   "id": "ea2f7d3b",
   "metadata": {},
   "outputs": [
    {
     "name": "stdout",
     "output_type": "stream",
     "text": [
      "   Rank  PlayerID  Player  MP   G  G/MP  A  A/MP   S  S/MP  SoT/MP   S/G\n",
      "0     1        13   Domen  13  31  2.38  0  0.00  58  4.46    0.54  1.87\n",
      "1     2        12  Gregor  18  27  1.50  1  0.06  50  2.78    0.22  1.85\n",
      "2     3        14    Miha  12  10  0.83  1  0.08  16  1.33    0.08  1.60\n",
      "3     4        11    Luka  15   9  0.60  1  0.07  75  5.00    0.40  8.33\n",
      "4     5        16   Kevin   4   1  0.25  1  0.25   1  0.25    0.00  1.00\n",
      "5     6        15     Jan   4   0  0.00  1  0.25   2  0.50    0.25  0.00\n"
     ]
    }
   ],
   "source": [
    "stmt = (\n",
    "    select(Attempt)\n",
    ")\n",
    "\n",
    "# Execute the statement and fetch the rows into a pandas DataFrame\n",
    "with engine.connect() as conn:\n",
    "    result = conn.execute(stmt)\n",
    "    df = pd.DataFrame(result.fetchall(), columns=result.keys())\n",
    "    # df = df.rename(columns={'id':'gameId','B':'teamId'})\n",
    "    # print(df)\n",
    "\n",
    "dfShots = pd.DataFrame(columns=[\"Rank\", \"PlayerID\", \"Player\", \"MP\", \"G\", \"G/MP\", \"A\", \"A/MP\", \"S\", \"S/MP\", \"SoT/MP\", \"S/G\"])\n",
    "dfShots[\"Player\"] = dfPlayerOverall[\"Player\"]\n",
    "dfShots[\"PlayerID\"] = dfPlayerOverall[\"PlayerID\"]\n",
    "dfShots[\"MP\"] = dfPlayerOverall[\"MP\"]\n",
    "\n",
    "shots = []\n",
    "for pId in dfShots[\"PlayerID\"].values:\n",
    "    shots.append(len(df.loc[(df[\"penalty\"] == False) & (df[\"shooterId\"] == pId), \"shooterId\"]))\n",
    "\n",
    "dfShots[\"S\"] = shots\n",
    "\n",
    "goals = []\n",
    "for pId in dfShots[\"PlayerID\"].values:\n",
    "    goals.append(len(df.loc[(df[\"penalty\"] == False) & (df[\"shooterId\"] == pId) & (df[\"goal\"] == True), \"shooterId\"]))\n",
    "\n",
    "dfShots[\"G\"] = goals\n",
    "\n",
    "sots = []\n",
    "for pId in dfShots[\"PlayerID\"].values:\n",
    "    sots.append(len(df.loc[(df[\"penalty\"] == False) & (df[\"shooterId\"] == pId) & (df[\"onTarget\"] == True), \"shooterId\"]))\n",
    "\n",
    "dfShots[\"SoT/MP\"] = (sots/dfShots[\"MP\"]).astype(float).round(2)\n",
    "\n",
    "assists = []\n",
    "for pId in dfShots[\"PlayerID\"].values:\n",
    "    assists.append(len(df.loc[(df[\"penalty\"] == False) & (df[\"assistedId\"] == pId) & (df[\"goal\"] == True), \"shooterId\"]))\n",
    "\n",
    "dfShots[\"A\"] = assists\n",
    "\n",
    "dfShots[\"G/MP\"] = (dfShots[\"G\"] / dfShots[\"MP\"]).astype(float).round(2)\n",
    "dfShots[\"A/MP\"] = (dfShots[\"A\"] / dfShots[\"MP\"]).astype(float).round(2)\n",
    "dfShots[\"S/MP\"] = (dfShots[\"S\"] / dfShots[\"MP\"]).astype(float).round(2)\n",
    "dfShots[\"S/G\"] = (dfShots[\"S\"] / dfShots[\"G\"]).astype(float).round(2)\n",
    "\n",
    "dfShots.replace(np.inf, 0, inplace=True)\n",
    "\n",
    "dfShots = dfShots.sort_values(\"G\", ascending=False)\n",
    "dfShots.index = np.arange(len(dfShots.index))\n",
    "dfShots[\"Rank\"] = dfShots.index + 1 \n",
    "\n",
    "print(dfShots)\n"
   ]
  },
  {
   "cell_type": "code",
   "execution_count": 328,
   "id": "3424ca78",
   "metadata": {},
   "outputs": [],
   "source": [
    "# stmt = (\n",
    "#     select(Attempt)\n",
    "# )\n",
    "\n",
    "# # Execute the statement and fetch the rows into a pandas DataFrame\n",
    "# with engine.connect() as conn:\n",
    "#     result = conn.execute(stmt)\n",
    "#     df = pd.DataFrame(result.fetchall(), columns=result.keys())\n",
    "#     # print(df)\n",
    "\n",
    "\n",
    "# dfShotsTeam = pd.DataFrame(columns=[\"Rank\", \"TeamID\", \"Team\", \"MP\", \"G\", \"G/MP\", \"A\", \"A/MP\", \"S\", \"S/MP\", \"SoT/MP\", \"S/G\"])\n",
    "# dfShotsTeam[\"Team\"] = dfTeamOverall[\"Team\"]\n",
    "# dfShotsTeam[\"TeamID\"] = dfTeamOverall[\"TeamID\"]\n",
    "# dfShotsTeam[\"MP\"] = dfTeamOverall[\"MP\"]\n",
    "\n",
    "# print(dfNames)\n",
    "\n",
    "# # for tId in dfTeamOverall[\"TeamID\"].values:\n",
    "\n",
    "\n",
    "# print(dfShotsTeam)\n",
    "\n"
   ]
  },
  {
   "cell_type": "code",
   "execution_count": 329,
   "id": "696e11c4",
   "metadata": {},
   "outputs": [
    {
     "data": {
      "image/png": "[encoded data removed]",
      "text/plain": [
       "<Figure size 864x432 with 1 Axes>"
      ]
     },
     "metadata": {
      "needs_background": "light"
     },
     "output_type": "display_data"
    }
   ],
   "source": [
    "import seaborn as sns\n",
    "import matplotlib.pyplot as plt\n",
    "\n",
    "# Plot the data\n",
    "plt.figure(figsize=(12, 6))\n",
    "sns.barplot(x='name', y='goals', data=goals_by_player)\n",
    "\n",
    "# Set plot labels and title\n",
    "plt.xlabel('Player Name')\n",
    "plt.ylabel('Number of Goals')\n",
    "plt.title('Goals scored by each player')\n",
    "\n",
    "# Rotate x-axis labels if necessary\n",
    "plt.xticks(rotation=45)\n",
    "\n",
    "# Show the plot\n",
    "plt.show()\n"
   ]
  },
  {
   "cell_type": "code",
   "execution_count": 330,
   "id": "42cc6492",
   "metadata": {},
   "outputs": [
    {
     "data": {
      "image/png": "[encoded data removed]",
      "text/plain": [
       "<Figure size 720x432 with 1 Axes>"
      ]
     },
     "metadata": {
      "needs_background": "light"
     },
     "output_type": "display_data"
    }
   ],
   "source": [
    "# How many attempts per game average\n",
    "stmt = select(Attempt.c.id, Attempt.c.gameId, Attempt.c.goal)\n",
    "with engine.connect() as conn:\n",
    "    result = conn.execute(stmt)\n",
    "    df_attempts = pd.DataFrame(result.fetchall(), columns=result.keys())\n",
    "\n",
    "# Calculate attempts and goals per game\n",
    "attempts_per_game = df_attempts.groupby(\"gameId\").size().reset_index(name=\"attempts\")\n",
    "goals_per_game = df_attempts[df_attempts[\"goal\"]].groupby(\"gameId\").size().reset_index(name=\"goals\")\n",
    "\n",
    "# Calculate average attempts and goals per game\n",
    "avg_attempts_per_game = attempts_per_game[\"attempts\"].mean()\n",
    "avg_goals_per_game = goals_per_game[\"goals\"].mean()\n",
    "\n",
    "# Create a DataFrame for the average values\n",
    "avg_data = pd.DataFrame(\n",
    "    {\n",
    "        \"metric\": [\"Average Attempts per Game\", \"Average Goals per Game\"],\n",
    "        \"value\": [avg_attempts_per_game, avg_goals_per_game],\n",
    "    }\n",
    ")\n",
    "\n",
    "# Plot the data\n",
    "plt.figure(figsize=(10, 6))\n",
    "sns.barplot(x=\"metric\", y=\"value\", data=avg_data)\n",
    "\n",
    "# Set plot labels and title\n",
    "plt.xlabel(\"\")\n",
    "plt.ylabel(\"Average\")\n",
    "plt.title(\"Average Attempts and Goals per Game\")\n",
    "\n",
    "# Show the plot\n",
    "plt.show()\n"
   ]
  },
  {
   "attachments": {},
   "cell_type": "markdown",
   "id": "24824bba",
   "metadata": {},
   "source": [
    "## Distribution of attempts and goals by time\n",
    "\n",
    "Right now we get only the attempts which have a time set. If the time is null we don't retrieve them. Alternatively we could and preprocess the data, interpolating the missing values."
   ]
  },
  {
   "cell_type": "code",
   "execution_count": 331,
   "id": "5542db50",
   "metadata": {},
   "outputs": [
    {
     "data": {
      "image/png": "[encoded data removed]",
      "text/plain": [
       "<Figure size 864x432 with 1 Axes>"
      ]
     },
     "metadata": {
      "needs_background": "light"
     },
     "output_type": "display_data"
    }
   ],
   "source": [
    "stmt = (\n",
    "    select(Attempt.c.id, Attempt.c.gameId, Attempt.c.goal, Attempt.c.time)\n",
    "    .where(Attempt.c.time != None)\n",
    ")\n",
    "with engine.connect() as conn:\n",
    "    result = conn.execute(stmt)\n",
    "    df_attempts = pd.DataFrame(result.fetchall(), columns=result.keys())\n",
    "\n",
    "# Group the attempts by the `time` column and count the number of attempts and goals\n",
    "attempts_by_time = df_attempts.groupby(\"time\").size().reset_index(name=\"attempts\")\n",
    "goals_by_time = df_attempts[df_attempts[\"goal\"]].groupby(\"time\").size().reset_index(name=\"goals\")\n",
    "\n",
    "# Merge the dataframes on the `time` column\n",
    "time_data = pd.merge(attempts_by_time, goals_by_time, on=\"time\")\n",
    "\n",
    "# Calculate the average number of attempts and goals for each time bucket\n",
    "total_games = df_attempts[\"gameId\"].nunique()\n",
    "time_data[\"avg_attempts\"] = time_data[\"attempts\"] / total_games\n",
    "time_data[\"avg_goals\"] = time_data[\"goals\"] / total_games\n",
    "\n",
    "# Create a line chart with two lines, one for attempts and one for goals\n",
    "plt.figure(figsize=(12, 6))\n",
    "sns.lineplot(x=\"time\", y=\"avg_attempts\", data=time_data, label=\"Attempts\")\n",
    "sns.lineplot(x=\"time\", y=\"avg_goals\", data=time_data, label=\"Goals\")\n",
    "\n",
    "# Set plot labels and title\n",
    "plt.xlabel(\"Time\")\n",
    "plt.ylabel(\"Average\")\n",
    "plt.title(\"Average Distribution of Attempts and Goals by Time\")\n",
    "\n",
    "# Show the legend\n",
    "plt.legend()\n",
    "\n",
    "# Show the plot\n",
    "plt.show()\n"
   ]
  },
  {
   "attachments": {},
   "cell_type": "markdown",
   "id": "cd699e81",
   "metadata": {},
   "source": [
    "## Top 3 red carded players"
   ]
  },
  {
   "cell_type": "code",
   "execution_count": 332,
   "id": "a742f8cf",
   "metadata": {},
   "outputs": [
    {
     "name": "stdout",
     "output_type": "stream",
     "text": [
      "   playerId  count\n",
      "0        12      2\n",
      "2        14      2\n",
      "1        13      1\n"
     ]
    }
   ],
   "source": [
    "stmt = select(Foul).where(Foul.c.card == 'red')\n",
    "with engine.connect() as conn:\n",
    "    result = conn.execute(stmt)\n",
    "    red_fouls_df = pd.DataFrame(result.fetchall(), columns=result.keys())\n",
    "\n",
    "# Group the data by playerId and count the number of red cards\n",
    "red_cards = red_fouls_df[red_fouls_df.card == 'red'].groupby('playerId').size().reset_index(name='count')\n",
    "\n",
    "# Sort the data by the count of red cards in descending order and select the top 3 players\n",
    "top_players = red_cards.sort_values('count', ascending=False).head(3)[['playerId', 'count']]\n",
    "\n",
    "print(top_players)\n",
    "\n"
   ]
  },
  {
   "attachments": {},
   "cell_type": "markdown",
   "id": "f6591958",
   "metadata": {},
   "source": [
    "### Most red cards per game"
   ]
  },
  {
   "cell_type": "code",
   "execution_count": 333,
   "id": "618fd901",
   "metadata": {},
   "outputs": [
    {
     "name": "stdout",
     "output_type": "stream",
     "text": [
      "   playerId  gamesPlayed  count  red_cards_per_game  id    name  \\\n",
      "3        15            4      1            0.250000  15     Jan   \n",
      "2        14           12      2            0.166667  14    Miha   \n",
      "0        12           18      2            0.111111  12  Gregor   \n",
      "\n",
      "                                            imageUri  \n",
      "3  https://izpo-fifa.s3.eu-central-1.amazonaws.co...  \n",
      "2  https://izpo-fifa.s3.eu-central-1.amazonaws.co...  \n",
      "0  https://izpo-fifa.s3.eu-central-1.amazonaws.co...  \n"
     ]
    }
   ],
   "source": [
    "players_in_team_df = get_players_in_team_df()\n",
    "teams_in_game_df = get_teams_in_game_df()\n",
    "players_df = get_players_df()\n",
    "\n",
    "# Merge players_to_team with teams_in_game to get games played by each player\n",
    "player_games = pd.merge(players_in_team_df, teams_in_game_df, on='teamId')\n",
    "player_games_count = player_games.groupby('playerId').gameId.nunique().reset_index()\n",
    "player_games_count = player_games_count.rename(columns={'gameId': 'gamesPlayed'})\n",
    "\n",
    "# Merge player_games_count with red_cards to get red cards per game played for each player\n",
    "red_cards_per_game = pd.merge(player_games_count, red_cards, on='playerId')\n",
    "red_cards_per_game['red_cards_per_game'] = red_cards_per_game['count'] / red_cards_per_game['gamesPlayed']\n",
    "\n",
    "red_cards_per_game = pd.merge(red_cards_per_game, players_df, left_on='playerId', right_on='id')\n",
    "\n",
    "top_3 = red_cards_per_game.sort_values('red_cards_per_game', ascending=False).head(3)\n",
    "\n",
    "# Display the result\n",
    "print(top_3)"
   ]
  }
 ],
 "metadata": {
  "kernelspec": {
   "display_name": "Python 3 (ipykernel)",
   "language": "python",
   "name": "python3"
  },
  "language_info": {
   "codemirror_mode": {
    "name": "ipython",
    "version": 3
   },
   "file_extension": ".py",
   "mimetype": "text/x-python",
   "name": "python",
   "nbconvert_exporter": "python",
   "pygments_lexer": "ipython3",
   "version": "3.11.1 (tags/v3.11.1:a7a450f, Dec  6 2022, 19:58:39) [MSC v.1934 64 bit (AMD64)]"
  },
  "vscode": {
   "interpreter": {
    "hash": "d4347253d30bea50a95efda23cb57e75da056f1e20d4b41d95a67855d5ac7fd3"
   }
  }
 },
 "nbformat": 4,
 "nbformat_minor": 5
}
