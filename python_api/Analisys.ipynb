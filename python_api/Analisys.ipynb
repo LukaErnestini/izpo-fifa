{
 "cells": [
  {
   "cell_type": "code",
   "execution_count": 68,
   "id": "d240c2bf",
   "metadata": {},
   "outputs": [],
   "source": [
    "from sqlalchemy import create_engine, text\n",
    "from sqlalchemy.orm import sessionmaker\n",
    "from sqlalchemy import MetaData, Table\n",
    "from sqlalchemy import select\n",
    "import pandas as pd\n",
    "import numpy as np\n",
    "import collections\n",
    "\n",
    "\n",
    "DB_USER = 'postgres'\n",
    "DB_PASSWORD = 'pass123'\n",
    "DB_HOST = 'localhost'\n",
    "DB_PORT = 5432\n",
    "DB_NAME = 'izpo-fifa'\n",
    "\n",
    "DATABASE_URL = f\"postgresql://{DB_USER}:{DB_PASSWORD}@{DB_HOST}:{DB_PORT}/{DB_NAME}\"\n",
    "        \n",
    "# https://docs.sqlalchemy.org/en/20/core/reflection.html\n",
    "engine = create_engine(DATABASE_URL)\n",
    "metadata_obj = MetaData()\n",
    "metadata_obj.reflect(bind=engine)"
   ]
  },
  {
   "cell_type": "code",
   "execution_count": 69,
   "id": "9110cba7",
   "metadata": {},
   "outputs": [],
   "source": [
    "# Load the tables\n",
    "Player = Table(\"Player\", metadata_obj, autoload_with=engine)\n",
    "Attempt = Table(\"Attempt\", metadata_obj, autoload_with=engine)\n",
    "Foul = Table(\"Foul\", metadata_obj, autoload_with=engine)\n",
    "Game = Table(\"Game\", metadata_obj, autoload_with=engine)\n",
    "Gameday = Table(\"Gameday\", metadata_obj, autoload_with=engine)\n",
    "Player = Table(\"Player\", metadata_obj, autoload_with=engine)\n",
    "Team = Table(\"Team\", metadata_obj, autoload_with=engine)\n",
    "GamedayToPlayer = Table(\"_GamedayToPlayer\", metadata_obj, autoload_with=engine)\n",
    "PlayerToTeam = Table(\"_PlayerToTeam\", metadata_obj, autoload_with=engine)\n"
   ]
  },
  {
   "cell_type": "code",
   "execution_count": 70,
   "id": "b24934ec",
   "metadata": {},
   "outputs": [],
   "source": [
    "# Functions for fetching from database\n",
    "def get_players_in_team_df():\n",
    "    stmt = select(PlayerToTeam)\n",
    "    with engine.connect() as conn:\n",
    "        result = conn.execute(stmt)\n",
    "        df = pd.DataFrame(result.fetchall(), columns=result.keys())\n",
    "        return df.rename(columns={'A':'playerId','B':'teamId'})\n",
    "def get_players_df():\n",
    "    stmt = select(Player)\n",
    "    with engine.connect() as conn:\n",
    "        result = conn.execute(stmt)\n",
    "        return pd.DataFrame(result.fetchall(), columns=result.keys())\n",
    "def get_attempts_df():\n",
    "    stmt = select(Attempt)\n",
    "    with engine.connect() as conn:\n",
    "        result = conn.execute(stmt)\n",
    "        return pd.DataFrame(result.fetchall(), columns=result.keys())\n",
    "def get_games_df():\n",
    "    stmt = select(Game)\n",
    "    with engine.connect() as conn:\n",
    "        result = conn.execute(stmt)\n",
    "        return pd.DataFrame(result.fetchall(), columns=result.keys())\n",
    "def get_teams_df():\n",
    "    stmt = select(Team)\n",
    "    with engine.connect() as conn:\n",
    "        result = conn.execute(stmt)\n",
    "        return pd.DataFrame(result.fetchall(), columns=result.keys())\n",
    "\n"
   ]
  },
  {
   "cell_type": "code",
   "execution_count": 71,
   "id": "09004b5c",
   "metadata": {},
   "outputs": [
    {
     "name": "stdout",
     "output_type": "stream",
     "text": [
      "SELECT \"Player\".id, \"Player\".name, \"Player\".\"imageUri\" \n",
      "FROM \"Player\" \n",
      "WHERE \"Player\".name = :name_1\n"
     ]
    }
   ],
   "source": [
    "# Build up a statement\n",
    "stmt = select(Player).where(Player.c.name == \"Luka\")\n",
    "print(stmt)"
   ]
  },
  {
   "cell_type": "code",
   "execution_count": 72,
   "id": "263adeb0",
   "metadata": {},
   "outputs": [
    {
     "name": "stdout",
     "output_type": "stream",
     "text": [
      "(1, 'Luka', 'https://izpo-fifa.s3.eu-central-1.amazonaws.com/XAVnOrxU1fRA0M5e2-cNT.png')\n"
     ]
    }
   ],
   "source": [
    "# We use the following snippet to run the statements\n",
    "with engine.connect() as conn:\n",
    "    for row in conn.execute(stmt):\n",
    "        print(row)"
   ]
  },
  {
   "cell_type": "code",
   "execution_count": 73,
   "id": "618f1c59",
   "metadata": {},
   "outputs": [
    {
     "name": "stdout",
     "output_type": "stream",
     "text": [
      "('Domen', 2)\n",
      "('Gregor', 3)\n",
      "('Žiga', 4)\n",
      "('Jan', 5)\n",
      "('Luka', 1)\n"
     ]
    }
   ],
   "source": [
    "# Get all the players\n",
    "stmt = select(Player.c.name, Player.c.id)\n",
    "with engine.connect() as conn:\n",
    "    for row in conn.execute(stmt):\n",
    "        print(row)"
   ]
  },
  {
   "cell_type": "code",
   "execution_count": 74,
   "id": "8980d228",
   "metadata": {},
   "outputs": [],
   "source": [
    "# Get all attempts by user with id=11\n",
    "stmt = select(Attempt).where(Attempt.c.shooterId == 11).limit(5)\n",
    "with engine.connect() as conn:\n",
    "    for row in conn.execute(stmt):\n",
    "        print(row)\n"
   ]
  },
  {
   "attachments": {},
   "cell_type": "markdown",
   "id": "b0ff4db0",
   "metadata": {},
   "source": [
    "# Using Pandas"
   ]
  },
  {
   "cell_type": "code",
   "execution_count": 75,
   "id": "64b70985",
   "metadata": {},
   "outputs": [
    {
     "name": "stdout",
     "output_type": "stream",
     "text": [
      "Empty DataFrame\n",
      "Columns: [id, time, distance, x, y, goal, autogoal, penalty, onTarget, shooterId, gameId, assistedId, goalieId]\n",
      "Index: []\n"
     ]
    }
   ],
   "source": [
    "stmt = select(Attempt).where(Attempt.c.shooterId == 11)\n",
    "with engine.connect() as conn:\n",
    "    result = conn.execute(stmt)\n",
    "    df = pd.DataFrame(result.fetchall(), columns=result.keys())\n",
    "\n",
    "print(df.head())"
   ]
  },
  {
   "cell_type": "code",
   "execution_count": 76,
   "id": "0001ad63",
   "metadata": {},
   "outputs": [
    {
     "name": "stdout",
     "output_type": "stream",
     "text": [
      "   id    name  goals\n",
      "0   1    Luka      6\n",
      "1   2   Domen      3\n",
      "2   3  Gregor      4\n",
      "3   4    Žiga     15\n",
      "4   5     Jan      1\n"
     ]
    }
   ],
   "source": [
    "# Create a select statement to get the number of goals scored by each player\n",
    "# This select returns all the attempts that resulted in a goal\n",
    "stmt = (\n",
    "    select(Player.c.id, Player.c.name, Attempt.c.shooterId, Attempt.c.goal)\n",
    "    .select_from(Player.join(Attempt, Player.c.id == Attempt.c.shooterId))\n",
    "    .where(Attempt.c.goal == True)\n",
    ")\n",
    "\n",
    "# Execute the statement and fetch the rows into a pandas DataFrame\n",
    "with engine.connect() as conn:\n",
    "    result = conn.execute(stmt)\n",
    "    df = pd.DataFrame(result.fetchall(), columns=result.keys())\n",
    "\n",
    "# Group the data by player and count the number of goals\n",
    "goals_by_player = df.groupby([\"id\", \"name\"]).size().reset_index(name=\"goals\")\n",
    "print(goals_by_player)"
   ]
  },
  {
   "cell_type": "code",
   "execution_count": 77,
   "id": "696e11c4",
   "metadata": {},
   "outputs": [
    {
     "data": {
      "image/png": "[encoded data removed]",
      "text/plain": [
       "<Figure size 1200x600 with 1 Axes>"
      ]
     },
     "metadata": {},
     "output_type": "display_data"
    }
   ],
   "source": [
    "import seaborn as sns\n",
    "import matplotlib.pyplot as plt\n",
    "\n",
    "# Plot the data\n",
    "plt.figure(figsize=(12, 6))\n",
    "sns.barplot(x='name', y='goals', data=goals_by_player)\n",
    "\n",
    "# Set plot labels and title\n",
    "plt.xlabel('Player Name')\n",
    "plt.ylabel('Number of Goals')\n",
    "plt.title('Goals scored by each player')\n",
    "\n",
    "# Rotate x-axis labels if necessary\n",
    "plt.xticks(rotation=45)\n",
    "\n",
    "# Show the plot\n",
    "plt.show()\n"
   ]
  },
  {
   "cell_type": "code",
   "execution_count": 78,
   "id": "42cc6492",
   "metadata": {},
   "outputs": [
    {
     "data": {
      "image/png": "[encoded data removed]",
      "text/plain": [
       "<Figure size 1000x600 with 1 Axes>"
      ]
     },
     "metadata": {},
     "output_type": "display_data"
    }
   ],
   "source": [
    "# How many attempts per game average\n",
    "stmt = select(Attempt.c.id, Attempt.c.gameId, Attempt.c.goal)\n",
    "with engine.connect() as conn:\n",
    "    result = conn.execute(stmt)\n",
    "    df_attempts = pd.DataFrame(result.fetchall(), columns=result.keys())\n",
    "\n",
    "# Calculate attempts and goals per game\n",
    "attempts_per_game = df_attempts.groupby(\"gameId\").size().reset_index(name=\"attempts\")\n",
    "goals_per_game = df_attempts[df_attempts[\"goal\"]].groupby(\"gameId\").size().reset_index(name=\"goals\")\n",
    "\n",
    "# Calculate average attempts and goals per game\n",
    "avg_attempts_per_game = attempts_per_game[\"attempts\"].mean()\n",
    "avg_goals_per_game = goals_per_game[\"goals\"].mean()\n",
    "\n",
    "# Create a DataFrame for the average values\n",
    "avg_data = pd.DataFrame(\n",
    "    {\n",
    "        \"metric\": [\"Average Attempts per Game\", \"Average Goals per Game\"],\n",
    "        \"value\": [avg_attempts_per_game, avg_goals_per_game],\n",
    "    }\n",
    ")\n",
    "\n",
    "# Plot the data\n",
    "plt.figure(figsize=(10, 6))\n",
    "sns.barplot(x=\"metric\", y=\"value\", data=avg_data)\n",
    "\n",
    "# Set plot labels and title\n",
    "plt.xlabel(\"\")\n",
    "plt.ylabel(\"Average\")\n",
    "plt.title(\"Average Attempts and Goals per Game\")\n",
    "\n",
    "# Show the plot\n",
    "plt.show()\n"
   ]
  },
  {
   "attachments": {},
   "cell_type": "markdown",
   "id": "24824bba",
   "metadata": {},
   "source": [
    "## Distribution of attempts and goals by time\n",
    "\n",
    "Right now we get only the attempts which have a time set. If the time is null we don't retrieve them. Alternatively we could and preprocess the data, interpolating the missing values."
   ]
  },
  {
   "cell_type": "code",
   "execution_count": 79,
   "id": "5542db50",
   "metadata": {},
   "outputs": [
    {
     "data": {
      "image/png": "[encoded data removed]",
      "text/plain": [
       "<Figure size 1200x600 with 1 Axes>"
      ]
     },
     "metadata": {},
     "output_type": "display_data"
    }
   ],
   "source": [
    "stmt = (\n",
    "    select(Attempt.c.id, Attempt.c.gameId, Attempt.c.goal, Attempt.c.time)\n",
    "    .where(Attempt.c.time != None)\n",
    ")\n",
    "with engine.connect() as conn:\n",
    "    result = conn.execute(stmt)\n",
    "    df_attempts = pd.DataFrame(result.fetchall(), columns=result.keys())\n",
    "\n",
    "# Group the attempts by the `time` column and count the number of attempts and goals\n",
    "attempts_by_time = df_attempts.groupby(\"time\").size().reset_index(name=\"attempts\")\n",
    "goals_by_time = df_attempts[df_attempts[\"goal\"]].groupby(\"time\").size().reset_index(name=\"goals\")\n",
    "\n",
    "# Merge the dataframes on the `time` column\n",
    "time_data = pd.merge(attempts_by_time, goals_by_time, on=\"time\")\n",
    "\n",
    "# Calculate the average number of attempts and goals for each time bucket\n",
    "total_games = df_attempts[\"gameId\"].nunique()\n",
    "time_data[\"avg_attempts\"] = time_data[\"attempts\"] / total_games\n",
    "time_data[\"avg_goals\"] = time_data[\"goals\"] / total_games\n",
    "\n",
    "# Create a line chart with two lines, one for attempts and one for goals\n",
    "plt.figure(figsize=(12, 6))\n",
    "sns.lineplot(x=\"time\", y=\"avg_attempts\", data=time_data, label=\"Attempts\")\n",
    "sns.lineplot(x=\"time\", y=\"avg_goals\", data=time_data, label=\"Goals\")\n",
    "\n",
    "# Set plot labels and title\n",
    "plt.xlabel(\"Time\")\n",
    "plt.ylabel(\"Average\")\n",
    "plt.title(\"Average Distribution of Attempts and Goals by Time\")\n",
    "\n",
    "# Show the legend\n",
    "plt.legend()\n",
    "\n",
    "# Show the plot\n",
    "plt.show()\n"
   ]
  },
  {
   "attachments": {},
   "cell_type": "markdown",
   "id": "cd699e81",
   "metadata": {},
   "source": [
    "## Top 3 red carded players"
   ]
  },
  {
   "cell_type": "code",
   "execution_count": 80,
   "id": "a742f8cf",
   "metadata": {},
   "outputs": [
    {
     "name": "stdout",
     "output_type": "stream",
     "text": [
      "   playerId  count\n",
      "0         2      3\n",
      "1         3      1\n"
     ]
    }
   ],
   "source": [
    "stmt = select(Foul).where(Foul.c.card == 'red')\n",
    "with engine.connect() as conn:\n",
    "    result = conn.execute(stmt)\n",
    "    red_fouls_df = pd.DataFrame(result.fetchall(), columns=result.keys())\n",
    "\n",
    "# Group the data by playerId and count the number of red cards\n",
    "red_cards = red_fouls_df.groupby('playerId').size().reset_index(name='count')\n",
    "\n",
    "# Sort the data by the count of red cards in descending order and select the top 3 players\n",
    "top_players = red_cards.sort_values('count', ascending=False).head(3)[['playerId', 'count']]\n",
    "\n",
    "print(top_players)\n",
    "\n"
   ]
  },
  {
   "attachments": {},
   "cell_type": "markdown",
   "id": "e7d22a21",
   "metadata": {},
   "source": [
    "### Most red cards per game"
   ]
  },
  {
   "cell_type": "code",
   "execution_count": 81,
   "id": "2aff5e95",
   "metadata": {},
   "outputs": [
    {
     "name": "stdout",
     "output_type": "stream",
     "text": [
      "   playerId    name  red_cards_per_game imageUri\n",
      "0         2   Domen            0.272727     None\n",
      "1         3  Gregor            0.125000     None\n"
     ]
    }
   ],
   "source": [
    "players_in_team_df = get_players_in_team_df()\n",
    "games_df = get_games_df()\n",
    "players_df = get_players_df()\n",
    "\n",
    "# Create a long format of the games_df\n",
    "teamA = games_df[['id', 'teamAId']].rename(columns={'id': 'gameId', 'teamAId': 'teamId'})\n",
    "teamB = games_df[['id', 'teamBId']].rename(columns={'id': 'gameId', 'teamBId': 'teamId'})\n",
    "long_games_df = pd.concat([teamA, teamB])\n",
    "\n",
    "# Merge players_in_team_df with long_games_df to get games played by each player\n",
    "player_games = pd.merge(players_in_team_df, long_games_df, on='teamId')\n",
    "\n",
    "# Count the number of unique games played by each player\n",
    "player_games_count = player_games.groupby('playerId').gameId.nunique().reset_index(name='gamesPlayed')\n",
    "\n",
    "# Merge player_games_count with red_fouls_df to get the red cards count for each player\n",
    "red_cards_per_game = pd.merge(player_games_count, red_cards, on='playerId')\n",
    "\n",
    "# Calculate red cards per game for each player\n",
    "red_cards_per_game['red_cards_per_game'] = red_cards_per_game['count'] / red_cards_per_game['gamesPlayed']\n",
    "\n",
    "# Merge the result with players_df to get player names\n",
    "red_cards_per_game = pd.merge(red_cards_per_game, players_df, left_on='playerId', right_on='id')\n",
    "\n",
    "# Sort and top 3\n",
    "top_3 = red_cards_per_game.sort_values('red_cards_per_game', ascending=False).head(3)\n",
    "\n",
    "# Display the result\n",
    "print(top_3[['playerId', 'name', 'red_cards_per_game', 'imageUri']])"
   ]
  },
  {
   "attachments": {},
   "cell_type": "markdown",
   "id": "ffd17467",
   "metadata": {},
   "source": [
    "# Goals per game"
   ]
  },
  {
   "cell_type": "code",
   "execution_count": 82,
   "id": "f1893406",
   "metadata": {},
   "outputs": [
    {
     "name": "stdout",
     "output_type": "stream",
     "text": [
      "   count  gamesPlayed  goalsPerGame  id    name  \\\n",
      "3     15           12      1.250000   4    Žiga   \n",
      "0      6           11      0.545455   1    Luka   \n",
      "2      4            8      0.500000   3  Gregor   \n",
      "1      3           11      0.272727   2   Domen   \n",
      "\n",
      "                                            imageUri  \n",
      "3                                               None  \n",
      "0  https://izpo-fifa.s3.eu-central-1.amazonaws.co...  \n",
      "2                                               None  \n",
      "1                                               None  \n"
     ]
    }
   ],
   "source": [
    "min_game_count = 4\n",
    "\n",
    "players_in_team_df = get_players_in_team_df()\n",
    "games_df = get_games_df()\n",
    "players_df = get_players_df()\n",
    "\n",
    "# Create a long format of the games_df\n",
    "teamA = games_df[['id', 'teamAId']].rename(columns={'id': 'gameId', 'teamAId': 'teamId'})\n",
    "teamB = games_df[['id', 'teamBId']].rename(columns={'id': 'gameId', 'teamBId': 'teamId'})\n",
    "long_games_df = pd.concat([teamA, teamB])\n",
    "\n",
    "# Fetch attempts that resulted in a goal\n",
    "stmt = select(Attempt).where(Attempt.c.goal == True)\n",
    "with engine.connect() as conn:\n",
    "    result = conn.execute(stmt)\n",
    "    attempts_goals = pd.DataFrame(result.fetchall(), columns=result.keys())\n",
    "\n",
    "goals_by_player_id = attempts_goals.groupby('shooterId').size().reset_index(name='count')\n",
    "player_games = pd.merge(players_in_team_df, long_games_df, on='teamId')\n",
    "player_games_count = player_games.groupby('playerId').gameId.nunique().reset_index(name='gamesPlayed')\n",
    "# Drop rows where the count of games played is too low\n",
    "player_games_count = player_games_count.loc[player_games_count['gamesPlayed'] >= min_game_count]\n",
    "\n",
    "goals_per_game = pd.merge(goals_by_player_id, player_games_count, left_on='shooterId', right_on='playerId').drop('shooterId',axis=1)\n",
    "goals_per_game['goalsPerGame'] = goals_per_game['count'] / goals_per_game['gamesPlayed']\n",
    "goals_per_game = pd.merge(goals_per_game, players_df, left_on='playerId', right_on='id').drop('playerId',axis=1)\n",
    "goals_per_game_sorted = goals_per_game.sort_values('goalsPerGame', ascending=False)\n",
    "print(goals_per_game_sorted)"
   ]
  },
  {
   "attachments": {},
   "cell_type": "markdown",
   "id": "c860e3d8",
   "metadata": {},
   "source": [
    "# Overall team table\n",
    "Author: Gregor Grbec"
   ]
  },
  {
   "attachments": {},
   "cell_type": "markdown",
   "id": "18661277",
   "metadata": {},
   "source": [
    "## Creating team leaderboard"
   ]
  },
  {
   "cell_type": "code",
   "execution_count": 83,
   "id": "80cdce56",
   "metadata": {},
   "outputs": [
    {
     "name": "stdout",
     "output_type": "stream",
     "text": [
      "    id                    date  gamedayId  scoreTeamA  scoreTeamB  teamAId  \\\n",
      "0    1 2023-04-05 11:44:30.034          2           1           1        2   \n",
      "1    2 2023-04-05 14:15:21.009          2           1           3        4   \n",
      "2    3 2023-04-05 14:25:18.933          2           2           0        6   \n",
      "3    4 2023-04-05 14:50:50.743          2           2           1        7   \n",
      "4    5 2023-04-05 14:52:26.151          2           0           0        9   \n",
      "5    6 2023-04-05 15:46:11.890          2           1           0        8   \n",
      "6    7 2023-04-05 15:47:13.196          2           2           0        8   \n",
      "7    8 2023-04-05 15:54:14.834          2           4           1        8   \n",
      "8    9 2023-04-05 16:17:47.663          2           0           4        6   \n",
      "9   10 2023-04-05 16:25:14.584          2           1           0        7   \n",
      "10  11 2023-04-07 11:27:03.422          3           2           0       15   \n",
      "11  12 2023-04-07 12:02:21.742          3           2           1       15   \n",
      "\n",
      "    teamBId  winnerId  finished  \n",
      "0         9       NaN      True  \n",
      "1        10      10.0      True  \n",
      "2         8       6.0      True  \n",
      "3         1       7.0      True  \n",
      "4         2       NaN      True  \n",
      "5         6       8.0      True  \n",
      "6         6       8.0      True  \n",
      "7         6       8.0      True  \n",
      "8         8       8.0      True  \n",
      "9         3       7.0      True  \n",
      "10        2      15.0      True  \n",
      "11        2      15.0      True  \n"
     ]
    }
   ],
   "source": [
    "# Filter by gameday\n",
    "gamedayId = None\n",
    "# gamedayId = 3\n",
    "dfGame = get_games_df()\n",
    "if (gamedayId):\n",
    "    dfGame = dfGame[dfGame['gamedayId'] == gamedayId]\n",
    "print(dfGame)"
   ]
  },
  {
   "cell_type": "code",
   "execution_count": 84,
   "id": "ffd519e6",
   "metadata": {},
   "outputs": [
    {
     "name": "stdout",
     "output_type": "stream",
     "text": [
      "   Rank  TeamID    Team  MP  W  D  L  Pts  Pts/MP  GF  GA  GF/MP  GA/MP\n",
      "0     1       8  LukŽig   5  4  0  1   12     2.4  11   3    2.2   0.60\n",
      "1     2       7    Žiga   2  2  0  0    6     3.0   3   1    1.5   0.50\n",
      "2     3      15  ŽigJan   2  2  0  0    6     3.0   4   1    2.0   0.50\n",
      "3     4       6  DomGre   5  1  0  4    3     0.6   3  11    0.6   2.20\n",
      "4     5      10  DomŽig   1  1  0  0    3     3.0   3   1    3.0   1.00\n",
      "5     6       2  LukDom   4  0  2  2    2     0.5   2   5    0.5   1.25\n",
      "6     7       9  GreŽig   2  0  2  0    2     1.0   1   1    0.5   0.50\n",
      "7     8       1    Luka   1  0  0  1    0     0.0   1   2    1.0   2.00\n",
      "8     9       3   Domen   1  0  0  1    0     0.0   0   1    0.0   1.00\n",
      "9    10       4  LukGre   1  0  0  1    0     0.0   1   3    1.0   3.00\n"
     ]
    }
   ],
   "source": [
    "allTeamIds = np.concatenate((dfGame[\"teamAId\"], dfGame[\"teamBId\"]))\n",
    "allTeamIdsUniq = np.unique(allTeamIds)\n",
    "\n",
    "MPcounter = collections.Counter(allTeamIds)\n",
    "\n",
    "MPs = []\n",
    "for tId in allTeamIdsUniq:\n",
    "    MPs.append(MPcounter.get(tId)) \n",
    "\n",
    "winners = []\n",
    "losers = []\n",
    "draws = []   \n",
    "for row in dfGame.index:\n",
    "    if dfGame.loc[row, \"scoreTeamA\"] > dfGame.loc[row, \"scoreTeamB\"]:\n",
    "        winners.append(dfGame.loc[row, \"teamAId\"])\n",
    "        losers.append(dfGame.loc[row, \"teamBId\"])\n",
    "    elif dfGame.loc[row, \"scoreTeamB\"] > dfGame.loc[row, \"scoreTeamA\"]:\n",
    "        winners.append(dfGame.loc[row, \"teamBId\"])\n",
    "        losers.append(dfGame.loc[row, \"teamAId\"])\n",
    "    else:\n",
    "        draws.append(dfGame.loc[row, \"teamBId\"])\n",
    "        draws.append(dfGame.loc[row, \"teamAId\"])\n",
    "\n",
    "\n",
    "Ws = []\n",
    "for tId in allTeamIdsUniq:\n",
    "    Ws.append(collections.Counter(winners).get(tId))\n",
    "\n",
    "Ls = []\n",
    "for tId in allTeamIdsUniq:  \n",
    "    Ls.append(collections.Counter(losers).get(tId))\n",
    "\n",
    "Ds = []\n",
    "for tId in allTeamIdsUniq:  \n",
    "    Ds.append(collections.Counter(draws).get(tId))\n",
    "\n",
    "\n",
    "dfTeamOverall = pd.DataFrame(columns=[\"Rank\", \"TeamID\", \"Team\", \"MP\", \"W\", \"D\", \"L\", \"Pts\", \"Pts/MP\", \"GF\", \"GA\", \"GF/MP\", \"GA/MP\"])\n",
    "dfTeamOverall[\"TeamID\"] = allTeamIdsUniq\n",
    "dfTeamOverall[\"MP\"] = MPs\n",
    "dfTeamOverall[\"W\"] = Ws\n",
    "dfTeamOverall[\"D\"] = Ds\n",
    "dfTeamOverall[\"L\"] = Ls\n",
    "\n",
    "\n",
    "dfTeamOverall[\"W\"] = dfTeamOverall[\"W\"].fillna(0)\n",
    "dfTeamOverall[\"D\"] = dfTeamOverall[\"D\"].fillna(0)\n",
    "dfTeamOverall[\"L\"] = dfTeamOverall[\"L\"].fillna(0)\n",
    "\n",
    "dfTeamOverall[\"W\"] = dfTeamOverall[\"W\"].astype(int)\n",
    "dfTeamOverall[\"D\"] = dfTeamOverall[\"D\"].astype(int)\n",
    "dfTeamOverall[\"L\"] = dfTeamOverall[\"L\"].astype(int)\n",
    "\n",
    "dfTeamOverall[\"Pts\"] = dfTeamOverall[\"W\"]*3 + dfTeamOverall[\"D\"]\n",
    "dfTeamOverall[\"Pts/MP\"] = (dfTeamOverall[\"Pts\"]/dfTeamOverall[\"MP\"]).astype(float).round(2)\n",
    "\n",
    "\n",
    "GFs = []\n",
    "GAs = []\n",
    "for tId in allTeamIdsUniq:\n",
    "    GFs.append(dfGame.loc[dfGame[\"teamAId\"] == tId, \"scoreTeamA\"].sum() + dfGame.loc[dfGame[\"teamBId\"] == tId, \"scoreTeamB\"].sum())\n",
    "    GAs.append(dfGame.loc[dfGame[\"teamAId\"] == tId, \"scoreTeamB\"].sum() + dfGame.loc[dfGame[\"teamBId\"] == tId, \"scoreTeamA\"].sum())\n",
    "\n",
    "\n",
    "dfTeamOverall[\"GF\"] = GFs\n",
    "dfTeamOverall[\"GA\"] = GAs\n",
    "\n",
    "dfTeamOverall[\"GF/MP\"] = (dfTeamOverall[\"GF\"]/dfTeamOverall[\"MP\"]).astype(float).round(2)\n",
    "dfTeamOverall[\"GA/MP\"] = (dfTeamOverall[\"GA\"]/dfTeamOverall[\"MP\"]).astype(float).round(2)\n",
    "\n",
    "names = []\n",
    "player_to_team = get_players_in_team_df()\n",
    "\n",
    "plyrs = get_players_df()\n",
    "\n",
    "# print(player_to_team)\n",
    "# print(plyrs)\n",
    "\n",
    "# print(dfTeamOverall)\n",
    "\n",
    "pIds = []\n",
    "for tId in allTeamIdsUniq:\n",
    "    pIds.append(player_to_team.loc[player_to_team[\"teamId\"] == tId, \"playerId\"].values)\n",
    "\n",
    "# print(pIds) \n",
    "\n",
    "dfNames = pd.DataFrame()\n",
    "dfNames[\"team_ids\"] = allTeamIdsUniq\n",
    "dfNames[\"player_ids\"] = pIds\n",
    "\n",
    "# print(\"plyrs\")\n",
    "# print(plyrs)\n",
    "\n",
    "# print(\"dfNames\")\n",
    "# print(dfNames)\n",
    "\n",
    "playerNames = []\n",
    "for arr in dfNames[\"player_ids\"].values:\n",
    "    # print(\"arr\")\n",
    "    # print(arr)\n",
    "    team_n = []    \n",
    "    for val in arr:\n",
    "        team_n.append(plyrs.loc[plyrs[\"id\"] == val, \"name\"].values[0])\n",
    "\n",
    "    playerNames.append(team_n)\n",
    "\n",
    "# print(playerNames)\n",
    "\n",
    "dfNames[\"team_names\"] = playerNames\n",
    "\n",
    "team_names_final = []\n",
    "for arr in dfNames[\"team_names\"].values:\n",
    "    if len(arr) == 1:\n",
    "        team_names_final.append(arr[0])\n",
    "    else:\n",
    "        team_names_final.append(arr[0][0:3]+arr[1][0:3])\n",
    "\n",
    "dfNames[\"team_names_final\"] = team_names_final\n",
    "\n",
    "# print(dfNames)\n",
    "\n",
    "\n",
    "dfTeamOverall[\"Team\"] = team_names_final\n",
    "dfTeamOverall = dfTeamOverall.sort_values(\"Pts\", ascending=False)\n",
    "dfTeamOverall.index = np.arange(len(dfTeamOverall.index))\n",
    "dfTeamOverall[\"Rank\"] = dfTeamOverall.index + 1\n",
    "# dfTeamOverall = dfTeamOverall.drop(columns=[\"TeamID\"])  # To droppaj ti ker jaz uporabljam v spodnjem odseku\n",
    "\n",
    "print(dfTeamOverall)"
   ]
  },
  {
   "attachments": {},
   "cell_type": "markdown",
   "id": "42ed63cd",
   "metadata": {},
   "source": [
    "## Tabela individualno"
   ]
  },
  {
   "cell_type": "code",
   "execution_count": 85,
   "id": "a91425ce",
   "metadata": {},
   "outputs": [
    {
     "name": "stdout",
     "output_type": "stream",
     "text": [
      "   Rank  PlayerID  Player  MP  W  D  L Pts  Pts/MP  GF  GA   GD  GF/MP  GA/MP\n",
      "0     1         4    Žiga  12  9  2  1  29    2.42  22   7   15   1.83   0.58\n",
      "1     2         1    Luka  11  4  2  5  14    1.27  15  13    2   1.36   1.18\n",
      "2     3         2   Domen  11  2  2  7   8    0.73   8  18  -10   0.73   1.64\n",
      "3     4         5     Jan   2  2  0  0   6    3.00   4   1    3   2.00   0.50\n",
      "4     5         3  Gregor   8  1  2  5   5    0.62   5  15  -10   0.62   1.88\n"
     ]
    }
   ],
   "source": [
    "players = get_players_df()\n",
    "# print(dfNames)\n",
    "# print(player_to_team)\n",
    "\n",
    "\n",
    "dfPlayerOverall = pd.DataFrame(columns=[\"Rank\", \"PlayerID\", \"Player\", \"MP\", \"W\", \"D\", \"L\", \"Pts\", \"Pts/MP\", \"GF\", \"GA\", \"GD\", \"GF/MP\", \"GA/MP\"])\n",
    "pIds = []\n",
    "nms = []\n",
    "for arr in dfNames[\"player_ids\"].values:\n",
    "    for val in arr:\n",
    "        if val not in pIds:\n",
    "            pIds.append(val)\n",
    "            nms.append(players.loc[players[\"id\"] == val, \"name\"].values[0])\n",
    "\n",
    "dfPlayerOverall[\"PlayerID\"] = pIds\n",
    "dfPlayerOverall[\"Player\"] = nms\n",
    "\n",
    "\n",
    "# print(player_to_team.loc[player_to_team[\"playerId\"] == 15, \"teamId\"].values)\n",
    "\n",
    "for pId in dfPlayerOverall[\"PlayerID\"].values:\n",
    "    plMP = 0\n",
    "    plW = 0\n",
    "    plD = 0\n",
    "    plL = 0\n",
    "    plGF = 0\n",
    "    plGA = 0\n",
    "\n",
    "\n",
    "    plTeams = list(player_to_team.loc[player_to_team[\"playerId\"] == pId, \"teamId\"].values)\n",
    "    # print(plTeams)\n",
    "    \n",
    "    for tmId in plTeams:\n",
    "        if(tmId in dfTeamOverall[\"TeamID\"].values):\n",
    "            # print(dfTeamOverall.loc[dfTeamOverall[\"TeamID\"] == tmId, \"MP\"])\n",
    "            plMP = plMP + dfTeamOverall.loc[dfTeamOverall[\"TeamID\"] == tmId, \"MP\"].values[0]\n",
    "            plW = plW + dfTeamOverall.loc[dfTeamOverall[\"TeamID\"] == tmId, \"W\"].values[0]\n",
    "            plD = plD + dfTeamOverall.loc[dfTeamOverall[\"TeamID\"] == tmId, \"D\"].values[0]\n",
    "            plL = plL + dfTeamOverall.loc[dfTeamOverall[\"TeamID\"] == tmId, \"L\"].values[0]\n",
    "            plGF = plGF + dfTeamOverall.loc[dfTeamOverall[\"TeamID\"] == tmId, \"GF\"].values[0]\n",
    "            plGA = plGA + dfTeamOverall.loc[dfTeamOverall[\"TeamID\"] == tmId, \"GA\"].values[0]\n",
    "\n",
    "    \n",
    "    dfPlayerOverall.loc[dfPlayerOverall[\"PlayerID\"] == pId, \"MP\"] = plMP\n",
    "    dfPlayerOverall.loc[dfPlayerOverall[\"PlayerID\"] == pId, \"W\"] = plW\n",
    "    dfPlayerOverall.loc[dfPlayerOverall[\"PlayerID\"] == pId, \"D\"] = plD\n",
    "    dfPlayerOverall.loc[dfPlayerOverall[\"PlayerID\"] == pId, \"L\"] = plL\n",
    "    dfPlayerOverall.loc[dfPlayerOverall[\"PlayerID\"] == pId, \"GF\"] = plGF\n",
    "    dfPlayerOverall.loc[dfPlayerOverall[\"PlayerID\"] == pId, \"GA\"] = plGA\n",
    "\n",
    "\n",
    "dfPlayerOverall[\"Pts\"] = dfPlayerOverall[\"W\"]*3 + dfPlayerOverall[\"D\"]\n",
    "dfPlayerOverall[\"Pts/MP\"] = (dfPlayerOverall[\"Pts\"] / dfPlayerOverall[\"MP\"]).astype(float).round(2)\n",
    "dfPlayerOverall[\"GF/MP\"] = (dfPlayerOverall[\"GF\"] / dfPlayerOverall[\"MP\"]).astype(float).round(2)\n",
    "dfPlayerOverall[\"GA/MP\"] = (dfPlayerOverall[\"GA\"] / dfPlayerOverall[\"MP\"]).astype(float).round(2)\n",
    "\n",
    "dfPlayerOverall[\"GD\"] = dfPlayerOverall[\"GF\"] - dfPlayerOverall[\"GA\"]\n",
    "\n",
    "dfPlayerOverall = dfPlayerOverall.sort_values(\"Pts\", ascending=False)\n",
    "dfPlayerOverall.index = np.arange(len(dfPlayerOverall.index))\n",
    "dfPlayerOverall[\"Rank\"] = dfPlayerOverall.index + 1 \n",
    "\n",
    "dfPlayerOverall.replace(np.inf, 0, inplace=True)\n",
    "\n",
    "\n",
    "# dfPlayerOverall = dfPlayerOverall.drop(columns=[\"PlayerID\"])  # To droppaj ti\n",
    "\n",
    "print(dfPlayerOverall)\n"
   ]
  },
  {
   "attachments": {},
   "cell_type": "markdown",
   "id": "75a4e0a1",
   "metadata": {},
   "source": [
    "## Shooting"
   ]
  },
  {
   "cell_type": "code",
   "execution_count": 86,
   "id": "aa2ef80e",
   "metadata": {},
   "outputs": [
    {
     "name": "stdout",
     "output_type": "stream",
     "text": [
      "   Rank  PlayerID  Player  MP   G  G/MP  A  A/MP   S  S/MP  SoT/MP   S/G\n",
      "0     1         4    Žiga  12  15  1.25  1  0.08  20  1.67    0.25  1.33\n",
      "1     2         1    Luka  11   6  0.55  4  0.36   8  0.73    0.18  1.33\n",
      "2     3         3  Gregor   8   4  0.50  2  0.25   7  0.88    0.25  1.75\n",
      "3     4         2   Domen  11   3  0.27  2  0.18   6  0.55    0.27  2.00\n",
      "4     5         5     Jan   2   1  0.50  0  0.00   1  0.50    0.00  1.00\n"
     ]
    }
   ],
   "source": [
    "df = get_attempts_df()\n",
    "df = df[df['gameId'].isin(dfGame['id'])]\n",
    "\n",
    "dfShots = pd.DataFrame(columns=[\"Rank\", \"PlayerID\", \"Player\", \"MP\", \"G\", \"G/MP\", \"A\", \"A/MP\", \"S\", \"S/MP\", \"SoT/MP\", \"S/G\"])\n",
    "dfShots[\"Player\"] = dfPlayerOverall[\"Player\"]\n",
    "dfShots[\"PlayerID\"] = dfPlayerOverall[\"PlayerID\"]\n",
    "dfShots[\"MP\"] = dfPlayerOverall[\"MP\"]\n",
    "\n",
    "shots = []\n",
    "for pId in dfShots[\"PlayerID\"].values:\n",
    "    shots.append(len(df.loc[(df[\"penalty\"] == False) & (df[\"shooterId\"] == pId), \"shooterId\"]))\n",
    "\n",
    "dfShots[\"S\"] = shots\n",
    "\n",
    "goals = []\n",
    "for pId in dfShots[\"PlayerID\"].values:\n",
    "    goals.append(len(df.loc[(df[\"penalty\"] == False) & (df[\"shooterId\"] == pId) & (df[\"goal\"] == True), \"shooterId\"]))\n",
    "\n",
    "dfShots[\"G\"] = goals\n",
    "\n",
    "sots = []\n",
    "for pId in dfShots[\"PlayerID\"].values:\n",
    "    sots.append(len(df.loc[(df[\"penalty\"] == False) & (df[\"shooterId\"] == pId) & (df[\"onTarget\"] == True), \"shooterId\"]))\n",
    "\n",
    "dfShots[\"SoT/MP\"] = (sots/dfShots[\"MP\"]).astype(float).round(2)\n",
    "\n",
    "assists = []\n",
    "for pId in dfShots[\"PlayerID\"].values:\n",
    "    assists.append(len(df.loc[(df[\"penalty\"] == False) & (df[\"assistedId\"] == pId) & (df[\"goal\"] == True), \"shooterId\"]))\n",
    "\n",
    "dfShots[\"A\"] = assists\n",
    "\n",
    "dfShots[\"G/MP\"] = (dfShots[\"G\"] / dfShots[\"MP\"]).astype(float).round(2)\n",
    "dfShots[\"A/MP\"] = (dfShots[\"A\"] / dfShots[\"MP\"]).astype(float).round(2)\n",
    "dfShots[\"S/MP\"] = (dfShots[\"S\"] / dfShots[\"MP\"]).astype(float).round(2)\n",
    "dfShots[\"S/G\"] = (dfShots[\"S\"] / dfShots[\"G\"]).astype(float).round(2)\n",
    "\n",
    "dfShots.replace(np.inf, 0, inplace=True)\n",
    "\n",
    "dfShots = dfShots.sort_values(\"G\", ascending=False)\n",
    "dfShots.index = np.arange(len(dfShots.index))\n",
    "dfShots[\"Rank\"] = dfShots.index + 1 \n",
    "\n",
    "print(dfShots)\n"
   ]
  }
 ],
 "metadata": {
  "kernelspec": {
   "display_name": "Python 3",
   "language": "python",
   "name": "python3"
  },
  "language_info": {
   "codemirror_mode": {
    "name": "ipython",
    "version": 3
   },
   "file_extension": ".py",
   "mimetype": "text/x-python",
   "name": "python",
   "nbconvert_exporter": "python",
   "pygments_lexer": "ipython3",
   "version": "3.11.1"
  },
  "vscode": {
   "interpreter": {
    "hash": "d4347253d30bea50a95efda23cb57e75da056f1e20d4b41d95a67855d5ac7fd3"
   }
  }
 },
 "nbformat": 4,
 "nbformat_minor": 5
}
